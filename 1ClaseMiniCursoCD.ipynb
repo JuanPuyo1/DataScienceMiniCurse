{
  "nbformat": 4,
  "nbformat_minor": 0,
  "metadata": {
    "colab": {
      "provenance": []
    },
    "kernelspec": {
      "name": "python3",
      "display_name": "Python 3"
    },
    "language_info": {
      "name": "python"
    }
  },
  "cells": [
    {
      "cell_type": "markdown",
      "source": [
        "#**CIENCIA DE DATOS**\n",
        "\n",
        "## Mini Curso, Universidad Nacional\n",
        "\n",
        "Juan Esteban Puyo Cubillos"
      ],
      "metadata": {
        "id": "vy6z4OcsEVhA"
      }
    },
    {
      "cell_type": "code",
      "execution_count": null,
      "metadata": {
        "id": "1CXnbO-fETx7"
      },
      "outputs": [],
      "source": [
        "#Primera sesión, introducción a python, aprendizaje profundo\n",
        "\n",
        "#Recordar, python es un BUEN LENGUAJE PARA LA CIENCIA DE DATOS\n",
        "\n",
        "# Tiene la capacidad para manejar y procesar datos\n",
        "# Sencillez para trabajar Algebra Lineal y Matricial\n",
        "# Puede hacer optimización matemática de una forma comprensible\n",
        "# Herramientas de visualización\n",
        "\n",
        "# otras opciones Son: MATLAB, R (procesos estadísticos) y JULIA\n",
        "\n",
        "# Recordar, python es un lenguaje de ALTO NIVEL, lo que significa que usa elementos de lenguaje natural\n",
        "\n",
        "# Su SINTAXIS ES COMPATIBLE CON LA COGNICIÓN HUMANA \n",
        "\n",
        "# Se ejecuta en un sistema interpretado, es ejecutable justo después de ser escritos."
      ]
    },
    {
      "cell_type": "markdown",
      "source": [
        "La filosofía de python se resume en su **ZEN**"
      ],
      "metadata": {
        "id": "o08h5E6MK9Se"
      }
    },
    {
      "cell_type": "code",
      "source": [
        "import this"
      ],
      "metadata": {
        "colab": {
          "base_uri": "https://localhost:8080/"
        },
        "id": "ulg8a0E0K8oJ",
        "outputId": "c20e5507-73b4-48de-a572-0b1a1fb3dfaa"
      },
      "execution_count": 1,
      "outputs": [
        {
          "output_type": "stream",
          "name": "stdout",
          "text": [
            "The Zen of Python, by Tim Peters\n",
            "\n",
            "Beautiful is better than ugly.\n",
            "Explicit is better than implicit.\n",
            "Simple is better than complex.\n",
            "Complex is better than complicated.\n",
            "Flat is better than nested.\n",
            "Sparse is better than dense.\n",
            "Readability counts.\n",
            "Special cases aren't special enough to break the rules.\n",
            "Although practicality beats purity.\n",
            "Errors should never pass silently.\n",
            "Unless explicitly silenced.\n",
            "In the face of ambiguity, refuse the temptation to guess.\n",
            "There should be one-- and preferably only one --obvious way to do it.\n",
            "Although that way may not be obvious at first unless you're Dutch.\n",
            "Now is better than never.\n",
            "Although never is often better than *right* now.\n",
            "If the implementation is hard to explain, it's a bad idea.\n",
            "If the implementation is easy to explain, it may be a good idea.\n",
            "Namespaces are one honking great idea -- let's do more of those!\n"
          ]
        }
      ]
    },
    {
      "cell_type": "code",
      "source": [
        "# CARACTERÍSTICAS\n",
        "\n",
        "# Puede conectarse a bases de datos para leer y modificar archivos\n",
        "# Python es perfecto para el prototipado rápido, es posible hacer pruebas de concepto\n",
        "# Permite hacer cálculos matemáticos de alta complejidad.\n",
        "\n",
        "\n",
        "\n",
        "# Por qué en ciencia de datos?\n",
        "\n",
        "# Fácil de comenzar: Es sencillo encontrar documentación (también para errores)\n",
        "\n",
        "# Páquetes especializados para ciencia de datos\n",
        "  # NUMPY Y PANDAS\n",
        "\n",
        "# Popularidad"
      ],
      "metadata": {
        "id": "jlP4Or7PLL3l"
      },
      "execution_count": null,
      "outputs": []
    },
    {
      "cell_type": "code",
      "source": [
        "print(\"Ciencia de datos, mini curso Universidad Nacional\")"
      ],
      "metadata": {
        "colab": {
          "base_uri": "https://localhost:8080/"
        },
        "id": "9vEF_nrJNE5V",
        "outputId": "aaed345d-50dc-4448-b719-f57fcba2f4f2"
      },
      "execution_count": 2,
      "outputs": [
        {
          "output_type": "stream",
          "name": "stdout",
          "text": [
            "Ciencia de datos, mini curso Universidad Nacional\n"
          ]
        }
      ]
    },
    {
      "cell_type": "code",
      "source": [
        "# Variables\n",
        "\n",
        "# Guardar un valor específico\n",
        "\n",
        "x = 1\n",
        "\n",
        "y = \"Vamos a programar\"\n",
        "\n",
        "Z = 2\n",
        "\n",
        "print(x,y,Z)\n",
        "\n",
        "# Recordar, existe la asiganción dinámica,\n",
        "\n",
        "# En el momento en que se asigne un tipo de dato a la variable, la misma reconocerá su tipo de dato\n",
        "\n",
        "f = 2\n",
        "\n",
        "print(\"Esto es un entero \", f)\n",
        "\n",
        "\n",
        "#Reglas para la asignacion \n",
        "\n",
        "# El nombre de la variable NO debe comenzar por numeros\n",
        "# Hay sensibilidad de mayus y minus\n",
        "  # x no es igual a X\n",
        "\n",
        "\n",
        "print(type(f))\n",
        "\n",
        "g = 1.23\n",
        "\n",
        "print(type(g))\n",
        "\n",
        "h = 3.2j\n",
        "\n",
        "print(type(h))\n",
        "\n",
        "i = True\n",
        "\n",
        "print(type(i))\n",
        "\n",
        "# Variable None\n",
        "\n",
        "# Utilizada para debug\n",
        "# Casos de operacion logica\n",
        "\n",
        "m = None \n",
        "\n",
        "m is None\n",
        "\n",
        "# Strings\n",
        "# Mandar mensajes, \n",
        "\n",
        "print(\"Hola\\nComo estas\")\n",
        "\n",
        "\n",
        "texto = \"cuidado_con_el_orden\"\n",
        "\n",
        "print(texto[3])\n",
        "print(texto[3:8])\n",
        "print(texto[3:-1])\n"
      ],
      "metadata": {
        "colab": {
          "base_uri": "https://localhost:8080/"
        },
        "id": "FVsy-59oN1ff",
        "outputId": "859be898-e643-4ebd-c78d-fe56dde8ecca"
      },
      "execution_count": 21,
      "outputs": [
        {
          "output_type": "stream",
          "name": "stdout",
          "text": [
            "1 Vamos a programar 2\n",
            "Esto es un entero  2\n",
            "<class 'int'>\n",
            "<class 'float'>\n",
            "<class 'complex'>\n",
            "<class 'bool'>\n",
            "Hola\n",
            "Como estas\n",
            "d\n",
            "dado_\n",
            "dado_con_el_orde\n"
          ]
        }
      ]
    },
    {
      "cell_type": "code",
      "source": [
        "#Suma y concatenacion de variables\n",
        "\n",
        "#Suma, para dos variables de tipo numerico\n",
        "#Concatenacion, para dos variables de tipo texto\n",
        "\n",
        "x = \"Python es \"\n",
        "y = \"Asombroso\"\n",
        "x + y \n",
        "\n",
        "s = 4\n",
        "d = 5\n",
        "print(s+d)\n",
        "\n",
        "#Conversicion\n",
        "\n",
        "x + str(s)"
      ],
      "metadata": {
        "colab": {
          "base_uri": "https://localhost:8080/",
          "height": 53
        },
        "id": "rM_KPxUyOOxf",
        "outputId": "50d47d47-b644-4831-d3c3-be4e2296dce5"
      },
      "execution_count": 25,
      "outputs": [
        {
          "output_type": "stream",
          "name": "stdout",
          "text": [
            "9\n"
          ]
        },
        {
          "output_type": "execute_result",
          "data": {
            "text/plain": [
              "'Python es 4'"
            ],
            "application/vnd.google.colaboratory.intrinsic+json": {
              "type": "string"
            }
          },
          "metadata": {},
          "execution_count": 25
        }
      ]
    },
    {
      "cell_type": "code",
      "source": [
        "#Operadores aritmeticos\n",
        "\n",
        "#Por default, no esta la operacion de raiz\n",
        "\n",
        "5*(3-5)**2 - ((6)/(9)**(1/2))\n",
        "\n",
        "# El resultado es float por la operacion de DIVISION\n",
        "\n",
        "#Division y residuo\n",
        "\n",
        "print(20/3)\n",
        "print(20//3)\n",
        "#Residuo\n",
        "print(20%3)\n",
        "\n",
        "#Round, aplicar redondeo\n",
        "\n",
        "n1 = 47/3\n",
        "print(n1)\n",
        "print(round(n1))\n",
        "print(round(n1,3))"
      ],
      "metadata": {
        "colab": {
          "base_uri": "https://localhost:8080/"
        },
        "id": "3NoWzT2eVuLi",
        "outputId": "1e0bf540-6764-4647-b8a1-b258303b150f"
      },
      "execution_count": 32,
      "outputs": [
        {
          "output_type": "stream",
          "name": "stdout",
          "text": [
            "6.666666666666667\n",
            "6\n",
            "2\n",
            "15.666666666666666\n",
            "16\n",
            "15.667\n"
          ]
        }
      ]
    },
    {
      "cell_type": "code",
      "source": [
        "#Flujo de control\n",
        "\n",
        "#Controlar el orden de ejecucion de un programa\n",
        "\n",
        "#Secuencial\n",
        "\n",
        "x = 1\n",
        "y = 2\n",
        "print (x,y)\n",
        "\n",
        "#Seleccion\n",
        "#Para ramificacion de codigo\n",
        "\n",
        "if x>y:\n",
        "  print(\"Hola\")\n",
        "else:\n",
        "  print(\"Como estas\")\n",
        "\n",
        "\n",
        "if x>y:\n",
        "  print(\"Hola\")\n",
        "elif y>3:\n",
        "  print(\"Como estas\")\n",
        "else:\n",
        "  print(\"Bien y tu\")\n",
        "\n",
        "#Repeticion\n",
        "#Ciclos\n",
        "\n",
        "#Ejecutar un proceso varias veces hasta que una condicion se cumpla\n",
        "#o hasta que se hayan iterado cierta cantidad de datos\n",
        "\n",
        "contador = 0\n",
        "\n",
        "while contador < 10:\n",
        "  print(contador, end=\" \")\n",
        "  contador = contador + 1\n",
        "\n",
        "print(\"\\ndone\")\n",
        "\n",
        "for i in range(10):\n",
        "  print(i)\n",
        "  if i == 5:\n",
        "    break\n",
        "\n",
        "#Anidaciones, recorrer dos ciclos, uno despues del otro\n",
        "\n",
        "for i in range(0,11):\n",
        "  for j in range(i):\n",
        "    print(\"x\", end=\"\")\n",
        "  print(\"\")"
      ],
      "metadata": {
        "colab": {
          "base_uri": "https://localhost:8080/"
        },
        "id": "MDiqzYSBXVtb",
        "outputId": "ff3e2437-bc9c-4745-d63b-5f518ae0ad8a"
      },
      "execution_count": 44,
      "outputs": [
        {
          "output_type": "stream",
          "name": "stdout",
          "text": [
            "1 2\n",
            "Como estas\n",
            "Bien y tu\n",
            "0 1 2 3 4 5 6 7 8 9 \n",
            "done\n",
            "0\n",
            "1\n",
            "2\n",
            "3\n",
            "4\n",
            "5\n",
            "\n",
            "x\n",
            "xx\n",
            "xxx\n",
            "xxxx\n",
            "xxxxx\n",
            "xxxxxx\n",
            "xxxxxxx\n",
            "xxxxxxxx\n",
            "xxxxxxxxx\n",
            "xxxxxxxxxx\n"
          ]
        }
      ]
    },
    {
      "cell_type": "code",
      "source": [
        "#Estructuras de datos\n",
        "\n",
        "\n",
        "#Listas\n",
        "\n",
        "#mas flexible\n",
        "#pueden almacenar cualquier tipo de dato\n",
        "arr = [1,2,3,4,\"hola como estas\"]\n",
        "\n",
        "#Es posible acceder a sus elementos de forma individual\n",
        "print(arr[-1])\n",
        "del arr[0]\n",
        "print(arr)\n",
        "\n",
        "#Recordar las listas, pueden tener listas dentro\n",
        "\n",
        "err = [[1,2]]\n",
        "\n",
        "\n",
        "#TUPLAS\n",
        "#No son modificables, no se pueden agregar datos\n",
        "\n",
        "t1 = (1,2,3)\n",
        "\n",
        "#Es posible crear un tupla de una lista\n",
        "\n",
        "t2 = tuple(arr)\n",
        "print(t2)\n",
        "\n",
        "\n",
        "#Diccionarios\n",
        "\n",
        "#Los objetos son indexados con un elemento especial, la llave, para las relaciones\n",
        "\n",
        "contactos = {\n",
        "    \"Juan\": 6010012,\n",
        "    \"Ana\": 123123\n",
        "}\n",
        "print(contactos[\"Juan\"])\n",
        "del contactos[\"Ana\"]\n",
        "\n",
        "personas = {}\n",
        "\n",
        "personas[\"contactos\"] = contactos\n",
        "print(personas)"
      ],
      "metadata": {
        "colab": {
          "base_uri": "https://localhost:8080/"
        },
        "id": "_C2IjwrcZzpf",
        "outputId": "3cefbd40-267d-48fa-c7d4-124fdf36eec6"
      },
      "execution_count": 60,
      "outputs": [
        {
          "output_type": "stream",
          "name": "stdout",
          "text": [
            "hola como estas\n",
            "[2, 3, 4, 'hola como estas']\n",
            "(2, 3, 4, 'hola como estas')\n",
            "6010012\n",
            "{'contactos': {'Juan': 6010012}}\n"
          ]
        }
      ]
    },
    {
      "cell_type": "code",
      "source": [
        "#Funciones\n",
        "\n",
        "#Bloques de instrucciones que pueden ser llamados en cualquier momento, pueden ser reutilizados\n",
        "\n",
        "def hello_world(name):\n",
        "  print(\"Hola {} , te amo con mi alma\".format(name))\n",
        "\n",
        "hello_world(\"Valeria\")"
      ],
      "metadata": {
        "colab": {
          "base_uri": "https://localhost:8080/"
        },
        "id": "7QGvV395dS2z",
        "outputId": "f1f65cf7-0233-4efa-9fcf-42f47e03ffbf"
      },
      "execution_count": 62,
      "outputs": [
        {
          "output_type": "stream",
          "name": "stdout",
          "text": [
            "Hola Valeria , te amo con mi alma\n"
          ]
        }
      ]
    }
  ]
}